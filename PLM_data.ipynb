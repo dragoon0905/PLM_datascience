{
 "cells": [
  {
   "cell_type": "code",
   "execution_count": 7,
   "metadata": {},
   "outputs": [],
   "source": [
    "import xlrd\n",
    "import pandas as pd\n",
    "import numpy as np\n",
    "import matplotlib as mpl\n",
    "mpl.rc('font',family='NanumGothic')\n",
    "import matplotlib.pyplot as plt\n",
    "%matplotlib inline\n",
    "import seaborn as sns\n",
    "import numpy"
   ]
  },
  {
   "cell_type": "code",
   "execution_count": 8,
   "metadata": {},
   "outputs": [],
   "source": [
    "train_data=pd.read_excel('dataset1.xlsx',sheet_name = 'Sheet2')"
   ]
  },
  {
   "cell_type": "code",
   "execution_count": 9,
   "metadata": {},
   "outputs": [
    {
     "data": {
      "text/plain": [
       "(300, 12)"
      ]
     },
     "execution_count": 9,
     "metadata": {},
     "output_type": "execute_result"
    }
   ],
   "source": [
    "train_data.shape"
   ]
  },
  {
   "cell_type": "code",
   "execution_count": 10,
   "metadata": {},
   "outputs": [
    {
     "data": {
      "text/html": [
       "<div>\n",
       "<style scoped>\n",
       "    .dataframe tbody tr th:only-of-type {\n",
       "        vertical-align: middle;\n",
       "    }\n",
       "\n",
       "    .dataframe tbody tr th {\n",
       "        vertical-align: top;\n",
       "    }\n",
       "\n",
       "    .dataframe thead th {\n",
       "        text-align: right;\n",
       "    }\n",
       "</style>\n",
       "<table border=\"1\" class=\"dataframe\">\n",
       "  <thead>\n",
       "    <tr style=\"text-align: right;\">\n",
       "      <th></th>\n",
       "      <th>질병</th>\n",
       "      <th>질병 수</th>\n",
       "      <th>나이</th>\n",
       "      <th>성별</th>\n",
       "      <th>거주지</th>\n",
       "      <th>팔로워</th>\n",
       "      <th>팔로잉</th>\n",
       "      <th>서포트</th>\n",
       "      <th>가입일자</th>\n",
       "      <th>마지막일자</th>\n",
       "      <th>활동기간</th>\n",
       "      <th>활동주기(빈도)</th>\n",
       "    </tr>\n",
       "  </thead>\n",
       "  <tbody>\n",
       "    <tr>\n",
       "      <th>0</th>\n",
       "      <td>ALS</td>\n",
       "      <td>2</td>\n",
       "      <td>21</td>\n",
       "      <td>M</td>\n",
       "      <td>NY, US</td>\n",
       "      <td>0</td>\n",
       "      <td>0</td>\n",
       "      <td>0</td>\n",
       "      <td>2019-05-02 00:00:00</td>\n",
       "      <td>2020-02-07 00:00:00</td>\n",
       "      <td>281</td>\n",
       "      <td>5</td>\n",
       "    </tr>\n",
       "    <tr>\n",
       "      <th>15</th>\n",
       "      <td>ALS</td>\n",
       "      <td>7</td>\n",
       "      <td>56</td>\n",
       "      <td>M</td>\n",
       "      <td>OK,US</td>\n",
       "      <td>20</td>\n",
       "      <td>16</td>\n",
       "      <td>8</td>\n",
       "      <td>2017-11-30 00:00:00</td>\n",
       "      <td>2020-10-29 00:00:00</td>\n",
       "      <td>1064</td>\n",
       "      <td>1</td>\n",
       "    </tr>\n",
       "    <tr>\n",
       "      <th>30</th>\n",
       "      <td>ALS</td>\n",
       "      <td>7</td>\n",
       "      <td>62</td>\n",
       "      <td>F</td>\n",
       "      <td>WA, US</td>\n",
       "      <td>0</td>\n",
       "      <td>0</td>\n",
       "      <td>0</td>\n",
       "      <td>2018-05-04 00:00:00</td>\n",
       "      <td>2020-01-02 00:00:00</td>\n",
       "      <td>608</td>\n",
       "      <td>4</td>\n",
       "    </tr>\n",
       "    <tr>\n",
       "      <th>45</th>\n",
       "      <td>ALS</td>\n",
       "      <td>11</td>\n",
       "      <td>71</td>\n",
       "      <td>M</td>\n",
       "      <td>TX, US</td>\n",
       "      <td>17</td>\n",
       "      <td>7</td>\n",
       "      <td>7</td>\n",
       "      <td>2019-04-16 00:00:00</td>\n",
       "      <td>2020-02-05 00:00:00</td>\n",
       "      <td>295</td>\n",
       "      <td>1</td>\n",
       "    </tr>\n",
       "    <tr>\n",
       "      <th>60</th>\n",
       "      <td>depressive disorder</td>\n",
       "      <td>3</td>\n",
       "      <td>16</td>\n",
       "      <td>F</td>\n",
       "      <td>WA, US</td>\n",
       "      <td>1</td>\n",
       "      <td>2</td>\n",
       "      <td>2</td>\n",
       "      <td>2018-12-04 00:00:00</td>\n",
       "      <td>2019-07-08 00:00:00</td>\n",
       "      <td>216</td>\n",
       "      <td>8</td>\n",
       "    </tr>\n",
       "    <tr>\n",
       "      <th>75</th>\n",
       "      <td>depressive disorder</td>\n",
       "      <td>8</td>\n",
       "      <td>39</td>\n",
       "      <td>F</td>\n",
       "      <td>TX, US</td>\n",
       "      <td>20</td>\n",
       "      <td>8</td>\n",
       "      <td>4</td>\n",
       "      <td>2018-06-30 00:00:00</td>\n",
       "      <td>2019-02-03 00:00:00</td>\n",
       "      <td>218</td>\n",
       "      <td>2</td>\n",
       "    </tr>\n",
       "    <tr>\n",
       "      <th>90</th>\n",
       "      <td>depressive disorder</td>\n",
       "      <td>7</td>\n",
       "      <td>51</td>\n",
       "      <td>F</td>\n",
       "      <td>MI, US</td>\n",
       "      <td>17</td>\n",
       "      <td>14</td>\n",
       "      <td>0</td>\n",
       "      <td>2018-10-29 00:00:00</td>\n",
       "      <td>2019-07-08 00:00:00</td>\n",
       "      <td>252</td>\n",
       "      <td>14</td>\n",
       "    </tr>\n",
       "    <tr>\n",
       "      <th>105</th>\n",
       "      <td>depressive disorder</td>\n",
       "      <td>7</td>\n",
       "      <td>58</td>\n",
       "      <td>M</td>\n",
       "      <td>TX, US</td>\n",
       "      <td>4</td>\n",
       "      <td>3</td>\n",
       "      <td>0</td>\n",
       "      <td>2018-10-30 00:00:00</td>\n",
       "      <td>2019-01-15 00:00:00</td>\n",
       "      <td>77</td>\n",
       "      <td>6</td>\n",
       "    </tr>\n",
       "    <tr>\n",
       "      <th>120</th>\n",
       "      <td>depressive disorder</td>\n",
       "      <td>2</td>\n",
       "      <td>72</td>\n",
       "      <td>M</td>\n",
       "      <td>NY, US</td>\n",
       "      <td>25</td>\n",
       "      <td>14</td>\n",
       "      <td>4</td>\n",
       "      <td>2019-03-07 00:00:00</td>\n",
       "      <td>2019-12-10 00:00:00</td>\n",
       "      <td>278</td>\n",
       "      <td>11</td>\n",
       "    </tr>\n",
       "    <tr>\n",
       "      <th>135</th>\n",
       "      <td>Fibromyalgia</td>\n",
       "      <td>3</td>\n",
       "      <td>48</td>\n",
       "      <td>F</td>\n",
       "      <td>MI, US</td>\n",
       "      <td>3</td>\n",
       "      <td>0</td>\n",
       "      <td>0</td>\n",
       "      <td>2020-04-08 00:00:00</td>\n",
       "      <td>2020-05-14 00:00:00</td>\n",
       "      <td>36</td>\n",
       "      <td>35</td>\n",
       "    </tr>\n",
       "    <tr>\n",
       "      <th>150</th>\n",
       "      <td>Fibromyalgia</td>\n",
       "      <td>13</td>\n",
       "      <td>71</td>\n",
       "      <td>F</td>\n",
       "      <td>MI, US</td>\n",
       "      <td>14</td>\n",
       "      <td>7</td>\n",
       "      <td>6</td>\n",
       "      <td>2019-08-31 00:00:00</td>\n",
       "      <td>2019-11-22 00:00:00</td>\n",
       "      <td>83</td>\n",
       "      <td>4</td>\n",
       "    </tr>\n",
       "    <tr>\n",
       "      <th>165</th>\n",
       "      <td>Fibromyalgia</td>\n",
       "      <td>8</td>\n",
       "      <td>69</td>\n",
       "      <td>F</td>\n",
       "      <td>TX, US</td>\n",
       "      <td>19</td>\n",
       "      <td>20</td>\n",
       "      <td>13</td>\n",
       "      <td>2019-09-19 00:00:00</td>\n",
       "      <td>2020-03-28 00:00:00</td>\n",
       "      <td>191</td>\n",
       "      <td>42</td>\n",
       "    </tr>\n",
       "    <tr>\n",
       "      <th>180</th>\n",
       "      <td>MS</td>\n",
       "      <td>7</td>\n",
       "      <td>18</td>\n",
       "      <td>F</td>\n",
       "      <td>NY, US</td>\n",
       "      <td>0</td>\n",
       "      <td>1</td>\n",
       "      <td>0</td>\n",
       "      <td>2019-11-06 00:00:00</td>\n",
       "      <td>2020-08-02 00:00:00</td>\n",
       "      <td>270</td>\n",
       "      <td>4</td>\n",
       "    </tr>\n",
       "    <tr>\n",
       "      <th>195</th>\n",
       "      <td>MS</td>\n",
       "      <td>4</td>\n",
       "      <td>44</td>\n",
       "      <td>F</td>\n",
       "      <td>WA, US</td>\n",
       "      <td>12</td>\n",
       "      <td>6</td>\n",
       "      <td>1</td>\n",
       "      <td>2018-11-11 00:00:00</td>\n",
       "      <td>2019-08-09 00:00:00</td>\n",
       "      <td>271</td>\n",
       "      <td>14</td>\n",
       "    </tr>\n",
       "    <tr>\n",
       "      <th>210</th>\n",
       "      <td>MS</td>\n",
       "      <td>3</td>\n",
       "      <td>54</td>\n",
       "      <td>F</td>\n",
       "      <td>MN,US</td>\n",
       "      <td>4</td>\n",
       "      <td>11</td>\n",
       "      <td>0</td>\n",
       "      <td>2019-02-26 00:00:00</td>\n",
       "      <td>2019-05-13 00:00:00</td>\n",
       "      <td>76</td>\n",
       "      <td>17</td>\n",
       "    </tr>\n",
       "    <tr>\n",
       "      <th>225</th>\n",
       "      <td>MS</td>\n",
       "      <td>6</td>\n",
       "      <td>68</td>\n",
       "      <td>F</td>\n",
       "      <td>FL,US</td>\n",
       "      <td>8</td>\n",
       "      <td>13</td>\n",
       "      <td>0</td>\n",
       "      <td>2029-03-26 00:00:00</td>\n",
       "      <td>2029-08-05 00:00:00</td>\n",
       "      <td>132</td>\n",
       "      <td>9</td>\n",
       "    </tr>\n",
       "    <tr>\n",
       "      <th>240</th>\n",
       "      <td>PD</td>\n",
       "      <td>3</td>\n",
       "      <td>17</td>\n",
       "      <td>M</td>\n",
       "      <td>OK,US</td>\n",
       "      <td>5</td>\n",
       "      <td>4</td>\n",
       "      <td>0</td>\n",
       "      <td>2019-03-11 00:00:00</td>\n",
       "      <td>2019-12-08 00:00:00</td>\n",
       "      <td>272</td>\n",
       "      <td>29</td>\n",
       "    </tr>\n",
       "    <tr>\n",
       "      <th>255</th>\n",
       "      <td>PD</td>\n",
       "      <td>6</td>\n",
       "      <td>41</td>\n",
       "      <td>F</td>\n",
       "      <td>LA, US</td>\n",
       "      <td>3</td>\n",
       "      <td>2</td>\n",
       "      <td>0</td>\n",
       "      <td>2019-03-10 00:00:00</td>\n",
       "      <td>2019-10-19 00:00:00</td>\n",
       "      <td>223</td>\n",
       "      <td>50</td>\n",
       "    </tr>\n",
       "    <tr>\n",
       "      <th>270</th>\n",
       "      <td>PD</td>\n",
       "      <td>7</td>\n",
       "      <td>57</td>\n",
       "      <td>F</td>\n",
       "      <td>MI, US</td>\n",
       "      <td>4</td>\n",
       "      <td>7</td>\n",
       "      <td>0</td>\n",
       "      <td>2019-04-21 00:00:00</td>\n",
       "      <td>2019-11-13 00:00:00</td>\n",
       "      <td>206</td>\n",
       "      <td>34</td>\n",
       "    </tr>\n",
       "    <tr>\n",
       "      <th>285</th>\n",
       "      <td>PD</td>\n",
       "      <td>6</td>\n",
       "      <td>69</td>\n",
       "      <td>F</td>\n",
       "      <td>TX, US</td>\n",
       "      <td>8</td>\n",
       "      <td>3</td>\n",
       "      <td>0</td>\n",
       "      <td>2019-09-22 00:00:00</td>\n",
       "      <td>2020-04-16 00:00:00</td>\n",
       "      <td>207</td>\n",
       "      <td>35</td>\n",
       "    </tr>\n",
       "  </tbody>\n",
       "</table>\n",
       "</div>"
      ],
      "text/plain": [
       "                      질병  질병 수  나이 성별     거주지  팔로워  팔로잉  서포트  \\\n",
       "0                    ALS     2  21  M  NY, US    0    0    0   \n",
       "15                   ALS     7  56  M   OK,US   20   16    8   \n",
       "30                   ALS     7  62  F  WA, US    0    0    0   \n",
       "45                   ALS    11  71  M  TX, US   17    7    7   \n",
       "60   depressive disorder     3  16  F  WA, US    1    2    2   \n",
       "75   depressive disorder     8  39  F  TX, US   20    8    4   \n",
       "90   depressive disorder     7  51  F  MI, US   17   14    0   \n",
       "105  depressive disorder     7  58  M  TX, US    4    3    0   \n",
       "120  depressive disorder     2  72  M  NY, US   25   14    4   \n",
       "135         Fibromyalgia     3  48  F  MI, US    3    0    0   \n",
       "150         Fibromyalgia    13  71  F  MI, US   14    7    6   \n",
       "165         Fibromyalgia     8  69  F  TX, US   19   20   13   \n",
       "180                   MS     7  18  F  NY, US    0    1    0   \n",
       "195                   MS     4  44  F  WA, US   12    6    1   \n",
       "210                   MS     3  54  F   MN,US    4   11    0   \n",
       "225                   MS     6  68  F   FL,US    8   13    0   \n",
       "240                   PD     3  17  M   OK,US    5    4    0   \n",
       "255                   PD     6  41  F  LA, US    3    2    0   \n",
       "270                   PD     7  57  F  MI, US    4    7    0   \n",
       "285                   PD     6  69  F  TX, US    8    3    0   \n",
       "\n",
       "                    가입일자                마지막일자  활동기간  활동주기(빈도)  \n",
       "0    2019-05-02 00:00:00  2020-02-07 00:00:00   281         5  \n",
       "15   2017-11-30 00:00:00  2020-10-29 00:00:00  1064         1  \n",
       "30   2018-05-04 00:00:00  2020-01-02 00:00:00   608         4  \n",
       "45   2019-04-16 00:00:00  2020-02-05 00:00:00   295         1  \n",
       "60   2018-12-04 00:00:00  2019-07-08 00:00:00   216         8  \n",
       "75   2018-06-30 00:00:00  2019-02-03 00:00:00   218         2  \n",
       "90   2018-10-29 00:00:00  2019-07-08 00:00:00   252        14  \n",
       "105  2018-10-30 00:00:00  2019-01-15 00:00:00    77         6  \n",
       "120  2019-03-07 00:00:00  2019-12-10 00:00:00   278        11  \n",
       "135  2020-04-08 00:00:00  2020-05-14 00:00:00    36        35  \n",
       "150  2019-08-31 00:00:00  2019-11-22 00:00:00    83         4  \n",
       "165  2019-09-19 00:00:00  2020-03-28 00:00:00   191        42  \n",
       "180  2019-11-06 00:00:00  2020-08-02 00:00:00   270         4  \n",
       "195  2018-11-11 00:00:00  2019-08-09 00:00:00   271        14  \n",
       "210  2019-02-26 00:00:00  2019-05-13 00:00:00    76        17  \n",
       "225  2029-03-26 00:00:00  2029-08-05 00:00:00   132         9  \n",
       "240  2019-03-11 00:00:00  2019-12-08 00:00:00   272        29  \n",
       "255  2019-03-10 00:00:00  2019-10-19 00:00:00   223        50  \n",
       "270  2019-04-21 00:00:00  2019-11-13 00:00:00   206        34  \n",
       "285  2019-09-22 00:00:00  2020-04-16 00:00:00   207        35  "
      ]
     },
     "execution_count": 10,
     "metadata": {},
     "output_type": "execute_result"
    }
   ],
   "source": [
    "train_data[0:300:15]"
   ]
  },
  {
   "cell_type": "code",
   "execution_count": 11,
   "metadata": {},
   "outputs": [
    {
     "data": {
      "text/html": [
       "<div>\n",
       "<style scoped>\n",
       "    .dataframe tbody tr th:only-of-type {\n",
       "        vertical-align: middle;\n",
       "    }\n",
       "\n",
       "    .dataframe tbody tr th {\n",
       "        vertical-align: top;\n",
       "    }\n",
       "\n",
       "    .dataframe thead th {\n",
       "        text-align: right;\n",
       "    }\n",
       "</style>\n",
       "<table border=\"1\" class=\"dataframe\">\n",
       "  <thead>\n",
       "    <tr style=\"text-align: right;\">\n",
       "      <th></th>\n",
       "      <th>질병</th>\n",
       "      <th>질병 수</th>\n",
       "      <th>팔로워</th>\n",
       "    </tr>\n",
       "  </thead>\n",
       "  <tbody>\n",
       "    <tr>\n",
       "      <th>0</th>\n",
       "      <td>ALS</td>\n",
       "      <td>2</td>\n",
       "      <td>0</td>\n",
       "    </tr>\n",
       "    <tr>\n",
       "      <th>1</th>\n",
       "      <td>ALS</td>\n",
       "      <td>2</td>\n",
       "      <td>0</td>\n",
       "    </tr>\n",
       "    <tr>\n",
       "      <th>2</th>\n",
       "      <td>ALS</td>\n",
       "      <td>5</td>\n",
       "      <td>12</td>\n",
       "    </tr>\n",
       "    <tr>\n",
       "      <th>3</th>\n",
       "      <td>ALS</td>\n",
       "      <td>4</td>\n",
       "      <td>20</td>\n",
       "    </tr>\n",
       "    <tr>\n",
       "      <th>4</th>\n",
       "      <td>ALS</td>\n",
       "      <td>5</td>\n",
       "      <td>0</td>\n",
       "    </tr>\n",
       "    <tr>\n",
       "      <th>...</th>\n",
       "      <td>...</td>\n",
       "      <td>...</td>\n",
       "      <td>...</td>\n",
       "    </tr>\n",
       "    <tr>\n",
       "      <th>295</th>\n",
       "      <td>PD</td>\n",
       "      <td>10</td>\n",
       "      <td>6</td>\n",
       "    </tr>\n",
       "    <tr>\n",
       "      <th>296</th>\n",
       "      <td>PD</td>\n",
       "      <td>7</td>\n",
       "      <td>9</td>\n",
       "    </tr>\n",
       "    <tr>\n",
       "      <th>297</th>\n",
       "      <td>PD</td>\n",
       "      <td>7</td>\n",
       "      <td>10</td>\n",
       "    </tr>\n",
       "    <tr>\n",
       "      <th>298</th>\n",
       "      <td>PD</td>\n",
       "      <td>8</td>\n",
       "      <td>1</td>\n",
       "    </tr>\n",
       "    <tr>\n",
       "      <th>299</th>\n",
       "      <td>PD</td>\n",
       "      <td>6</td>\n",
       "      <td>21</td>\n",
       "    </tr>\n",
       "  </tbody>\n",
       "</table>\n",
       "<p>300 rows × 3 columns</p>\n",
       "</div>"
      ],
      "text/plain": [
       "      질병  질병 수  팔로워\n",
       "0    ALS     2    0\n",
       "1    ALS     2    0\n",
       "2    ALS     5   12\n",
       "3    ALS     4   20\n",
       "4    ALS     5    0\n",
       "..   ...   ...  ...\n",
       "295   PD    10    6\n",
       "296   PD     7    9\n",
       "297   PD     7   10\n",
       "298   PD     8    1\n",
       "299   PD     6   21\n",
       "\n",
       "[300 rows x 3 columns]"
      ]
     },
     "execution_count": 11,
     "metadata": {},
     "output_type": "execute_result"
    }
   ],
   "source": [
    "train_data[[\"질병\",\"질병 수\",\"팔로워\"]]"
   ]
  },
  {
   "cell_type": "code",
   "execution_count": 12,
   "metadata": {},
   "outputs": [
    {
     "name": "stdout",
     "output_type": "stream",
     "text": [
      "<class 'pandas.core.frame.DataFrame'>\n",
      "RangeIndex: 300 entries, 0 to 299\n",
      "Data columns (total 12 columns):\n",
      " #   Column    Non-Null Count  Dtype \n",
      "---  ------    --------------  ----- \n",
      " 0   질병        300 non-null    object\n",
      " 1   질병 수      300 non-null    int64 \n",
      " 2   나이        300 non-null    int64 \n",
      " 3   성별        300 non-null    object\n",
      " 4   거주지       300 non-null    object\n",
      " 5   팔로워       300 non-null    int64 \n",
      " 6   팔로잉       300 non-null    int64 \n",
      " 7   서포트       300 non-null    int64 \n",
      " 8   가입일자      300 non-null    object\n",
      " 9   마지막일자     300 non-null    object\n",
      " 10  활동기간      300 non-null    int64 \n",
      " 11  활동주기(빈도)  300 non-null    int64 \n",
      "dtypes: int64(7), object(5)\n",
      "memory usage: 28.2+ KB\n"
     ]
    }
   ],
   "source": [
    "train_data.info()"
   ]
  },
  {
   "cell_type": "code",
   "execution_count": 13,
   "metadata": {},
   "outputs": [
    {
     "data": {
      "text/plain": [
       "datetime.datetime"
      ]
     },
     "execution_count": 13,
     "metadata": {},
     "output_type": "execute_result"
    }
   ],
   "source": [
    "type(train_data[\"가입일자\"][1])"
   ]
  },
  {
   "cell_type": "code",
   "execution_count": 14,
   "metadata": {},
   "outputs": [
    {
     "data": {
      "text/plain": [
       "str"
      ]
     },
     "execution_count": 14,
     "metadata": {},
     "output_type": "execute_result"
    }
   ],
   "source": [
    "type(train_data[\"성별\"][1])"
   ]
  },
  {
   "cell_type": "code",
   "execution_count": 15,
   "metadata": {},
   "outputs": [
    {
     "data": {
      "text/plain": [
       "str"
      ]
     },
     "execution_count": 15,
     "metadata": {},
     "output_type": "execute_result"
    }
   ],
   "source": [
    "type(train_data[\"거주지\"][1])"
   ]
  },
  {
   "cell_type": "code",
   "execution_count": 16,
   "metadata": {},
   "outputs": [
    {
     "data": {
      "text/plain": [
       "질병 수          6.026667\n",
       "나이           54.286667\n",
       "팔로워          10.580000\n",
       "팔로잉           9.496667\n",
       "서포트           2.810000\n",
       "활동기간        276.313333\n",
       "활동주기(빈도)     21.960000\n",
       "dtype: float64"
      ]
     },
     "execution_count": 16,
     "metadata": {},
     "output_type": "execute_result"
    }
   ],
   "source": [
    "train_data.mean()"
   ]
  },
  {
   "cell_type": "code",
   "execution_count": 17,
   "metadata": {},
   "outputs": [
    {
     "data": {
      "text/html": [
       "<div>\n",
       "<style scoped>\n",
       "    .dataframe tbody tr th:only-of-type {\n",
       "        vertical-align: middle;\n",
       "    }\n",
       "\n",
       "    .dataframe tbody tr th {\n",
       "        vertical-align: top;\n",
       "    }\n",
       "\n",
       "    .dataframe thead th {\n",
       "        text-align: right;\n",
       "    }\n",
       "</style>\n",
       "<table border=\"1\" class=\"dataframe\">\n",
       "  <thead>\n",
       "    <tr style=\"text-align: right;\">\n",
       "      <th></th>\n",
       "      <th>나이</th>\n",
       "      <th>서포트</th>\n",
       "      <th>질병 수</th>\n",
       "      <th>팔로워</th>\n",
       "      <th>팔로잉</th>\n",
       "      <th>활동기간</th>\n",
       "      <th>활동주기(빈도)</th>\n",
       "    </tr>\n",
       "    <tr>\n",
       "      <th>질병</th>\n",
       "      <th></th>\n",
       "      <th></th>\n",
       "      <th></th>\n",
       "      <th></th>\n",
       "      <th></th>\n",
       "      <th></th>\n",
       "      <th></th>\n",
       "    </tr>\n",
       "  </thead>\n",
       "  <tbody>\n",
       "    <tr>\n",
       "      <th>ALS</th>\n",
       "      <td>61.000000</td>\n",
       "      <td>2.883333</td>\n",
       "      <td>5.866667</td>\n",
       "      <td>7.800000</td>\n",
       "      <td>6.033333</td>\n",
       "      <td>465.566667</td>\n",
       "      <td>19.750000</td>\n",
       "    </tr>\n",
       "    <tr>\n",
       "      <th>Fibromyalgia</th>\n",
       "      <td>55.847458</td>\n",
       "      <td>5.474576</td>\n",
       "      <td>6.101695</td>\n",
       "      <td>11.677966</td>\n",
       "      <td>11.135593</td>\n",
       "      <td>150.152542</td>\n",
       "      <td>25.542373</td>\n",
       "    </tr>\n",
       "    <tr>\n",
       "      <th>MS</th>\n",
       "      <td>52.183333</td>\n",
       "      <td>0.700000</td>\n",
       "      <td>6.833333</td>\n",
       "      <td>11.100000</td>\n",
       "      <td>13.500000</td>\n",
       "      <td>277.066667</td>\n",
       "      <td>11.650000</td>\n",
       "    </tr>\n",
       "    <tr>\n",
       "      <th>PD</th>\n",
       "      <td>54.733333</td>\n",
       "      <td>1.583333</td>\n",
       "      <td>6.100000</td>\n",
       "      <td>11.600000</td>\n",
       "      <td>7.283333</td>\n",
       "      <td>308.200000</td>\n",
       "      <td>40.466667</td>\n",
       "    </tr>\n",
       "    <tr>\n",
       "      <th>depressive disorder</th>\n",
       "      <td>47.803279</td>\n",
       "      <td>3.442623</td>\n",
       "      <td>5.245902</td>\n",
       "      <td>10.737705</td>\n",
       "      <td>9.557377</td>\n",
       "      <td>180.081967</td>\n",
       "      <td>12.606557</td>\n",
       "    </tr>\n",
       "  </tbody>\n",
       "</table>\n",
       "</div>"
      ],
      "text/plain": [
       "                            나이       서포트      질병 수        팔로워        팔로잉  \\\n",
       "질병                                                                         \n",
       "ALS                  61.000000  2.883333  5.866667   7.800000   6.033333   \n",
       "Fibromyalgia         55.847458  5.474576  6.101695  11.677966  11.135593   \n",
       "MS                   52.183333  0.700000  6.833333  11.100000  13.500000   \n",
       "PD                   54.733333  1.583333  6.100000  11.600000   7.283333   \n",
       "depressive disorder  47.803279  3.442623  5.245902  10.737705   9.557377   \n",
       "\n",
       "                           활동기간   활동주기(빈도)  \n",
       "질병                                          \n",
       "ALS                  465.566667  19.750000  \n",
       "Fibromyalgia         150.152542  25.542373  \n",
       "MS                   277.066667  11.650000  \n",
       "PD                   308.200000  40.466667  \n",
       "depressive disorder  180.081967  12.606557  "
      ]
     },
     "execution_count": 17,
     "metadata": {},
     "output_type": "execute_result"
    }
   ],
   "source": [
    "pd.pivot_table(train_data,index='질병',aggfunc=np.mean)"
   ]
  },
  {
   "cell_type": "code",
   "execution_count": 35,
   "metadata": {},
   "outputs": [
    {
     "data": {
      "text/html": [
       "<div>\n",
       "<style scoped>\n",
       "    .dataframe tbody tr th:only-of-type {\n",
       "        vertical-align: middle;\n",
       "    }\n",
       "\n",
       "    .dataframe tbody tr th {\n",
       "        vertical-align: top;\n",
       "    }\n",
       "\n",
       "    .dataframe thead th {\n",
       "        text-align: right;\n",
       "    }\n",
       "</style>\n",
       "<table border=\"1\" class=\"dataframe\">\n",
       "  <thead>\n",
       "    <tr style=\"text-align: right;\">\n",
       "      <th></th>\n",
       "      <th>질병 수</th>\n",
       "      <th>나이</th>\n",
       "      <th>팔로워</th>\n",
       "      <th>팔로잉</th>\n",
       "      <th>서포트</th>\n",
       "      <th>활동기간</th>\n",
       "      <th>활동주기(빈도)</th>\n",
       "    </tr>\n",
       "  </thead>\n",
       "  <tbody>\n",
       "    <tr>\n",
       "      <th>질병 수</th>\n",
       "      <td>1.000000</td>\n",
       "      <td>0.291661</td>\n",
       "      <td>-0.001535</td>\n",
       "      <td>0.013957</td>\n",
       "      <td>0.017460</td>\n",
       "      <td>-0.043282</td>\n",
       "      <td>0.001032</td>\n",
       "    </tr>\n",
       "    <tr>\n",
       "      <th>나이</th>\n",
       "      <td>0.291661</td>\n",
       "      <td>1.000000</td>\n",
       "      <td>0.013244</td>\n",
       "      <td>-0.017905</td>\n",
       "      <td>0.015525</td>\n",
       "      <td>0.099628</td>\n",
       "      <td>0.161123</td>\n",
       "    </tr>\n",
       "    <tr>\n",
       "      <th>팔로워</th>\n",
       "      <td>-0.001535</td>\n",
       "      <td>0.013244</td>\n",
       "      <td>1.000000</td>\n",
       "      <td>0.784766</td>\n",
       "      <td>0.726049</td>\n",
       "      <td>0.277945</td>\n",
       "      <td>-0.190396</td>\n",
       "    </tr>\n",
       "    <tr>\n",
       "      <th>팔로잉</th>\n",
       "      <td>0.013957</td>\n",
       "      <td>-0.017905</td>\n",
       "      <td>0.784766</td>\n",
       "      <td>1.000000</td>\n",
       "      <td>0.591680</td>\n",
       "      <td>0.185337</td>\n",
       "      <td>-0.195836</td>\n",
       "    </tr>\n",
       "    <tr>\n",
       "      <th>서포트</th>\n",
       "      <td>0.017460</td>\n",
       "      <td>0.015525</td>\n",
       "      <td>0.726049</td>\n",
       "      <td>0.591680</td>\n",
       "      <td>1.000000</td>\n",
       "      <td>0.234516</td>\n",
       "      <td>-0.126529</td>\n",
       "    </tr>\n",
       "    <tr>\n",
       "      <th>활동기간</th>\n",
       "      <td>-0.043282</td>\n",
       "      <td>0.099628</td>\n",
       "      <td>0.277945</td>\n",
       "      <td>0.185337</td>\n",
       "      <td>0.234516</td>\n",
       "      <td>1.000000</td>\n",
       "      <td>0.005174</td>\n",
       "    </tr>\n",
       "    <tr>\n",
       "      <th>활동주기(빈도)</th>\n",
       "      <td>0.001032</td>\n",
       "      <td>0.161123</td>\n",
       "      <td>-0.190396</td>\n",
       "      <td>-0.195836</td>\n",
       "      <td>-0.126529</td>\n",
       "      <td>0.005174</td>\n",
       "      <td>1.000000</td>\n",
       "    </tr>\n",
       "  </tbody>\n",
       "</table>\n",
       "</div>"
      ],
      "text/plain": [
       "              질병 수        나이       팔로워       팔로잉       서포트      활동기간  활동주기(빈도)\n",
       "질병 수      1.000000  0.291661 -0.001535  0.013957  0.017460 -0.043282  0.001032\n",
       "나이        0.291661  1.000000  0.013244 -0.017905  0.015525  0.099628  0.161123\n",
       "팔로워      -0.001535  0.013244  1.000000  0.784766  0.726049  0.277945 -0.190396\n",
       "팔로잉       0.013957 -0.017905  0.784766  1.000000  0.591680  0.185337 -0.195836\n",
       "서포트       0.017460  0.015525  0.726049  0.591680  1.000000  0.234516 -0.126529\n",
       "활동기간     -0.043282  0.099628  0.277945  0.185337  0.234516  1.000000  0.005174\n",
       "활동주기(빈도)  0.001032  0.161123 -0.190396 -0.195836 -0.126529  0.005174  1.000000"
      ]
     },
     "execution_count": 35,
     "metadata": {},
     "output_type": "execute_result"
    }
   ],
   "source": [
    "train_data.corr()"
   ]
  },
  {
   "cell_type": "code",
   "execution_count": 37,
   "metadata": {},
   "outputs": [
    {
     "data": {
      "text/html": [
       "<div>\n",
       "<style scoped>\n",
       "    .dataframe tbody tr th:only-of-type {\n",
       "        vertical-align: middle;\n",
       "    }\n",
       "\n",
       "    .dataframe tbody tr th {\n",
       "        vertical-align: top;\n",
       "    }\n",
       "\n",
       "    .dataframe thead th {\n",
       "        text-align: right;\n",
       "    }\n",
       "</style>\n",
       "<table border=\"1\" class=\"dataframe\">\n",
       "  <thead>\n",
       "    <tr style=\"text-align: right;\">\n",
       "      <th></th>\n",
       "      <th>질병</th>\n",
       "      <th>질병 수</th>\n",
       "      <th>나이</th>\n",
       "      <th>거주지</th>\n",
       "      <th>팔로워</th>\n",
       "      <th>팔로잉</th>\n",
       "      <th>서포트</th>\n",
       "      <th>가입일자</th>\n",
       "      <th>마지막일자</th>\n",
       "      <th>활동기간</th>\n",
       "      <th>활동주기(빈도)</th>\n",
       "    </tr>\n",
       "    <tr>\n",
       "      <th>성별</th>\n",
       "      <th></th>\n",
       "      <th></th>\n",
       "      <th></th>\n",
       "      <th></th>\n",
       "      <th></th>\n",
       "      <th></th>\n",
       "      <th></th>\n",
       "      <th></th>\n",
       "      <th></th>\n",
       "      <th></th>\n",
       "      <th></th>\n",
       "    </tr>\n",
       "  </thead>\n",
       "  <tbody>\n",
       "    <tr>\n",
       "      <th>F</th>\n",
       "      <td>210</td>\n",
       "      <td>210</td>\n",
       "      <td>210</td>\n",
       "      <td>210</td>\n",
       "      <td>210</td>\n",
       "      <td>210</td>\n",
       "      <td>210</td>\n",
       "      <td>210</td>\n",
       "      <td>210</td>\n",
       "      <td>210</td>\n",
       "      <td>210</td>\n",
       "    </tr>\n",
       "    <tr>\n",
       "      <th>M</th>\n",
       "      <td>90</td>\n",
       "      <td>90</td>\n",
       "      <td>90</td>\n",
       "      <td>90</td>\n",
       "      <td>90</td>\n",
       "      <td>90</td>\n",
       "      <td>90</td>\n",
       "      <td>90</td>\n",
       "      <td>90</td>\n",
       "      <td>90</td>\n",
       "      <td>90</td>\n",
       "    </tr>\n",
       "  </tbody>\n",
       "</table>\n",
       "</div>"
      ],
      "text/plain": [
       "     질병  질병 수   나이  거주지  팔로워  팔로잉  서포트  가입일자  마지막일자  활동기간  활동주기(빈도)\n",
       "성별                                                                 \n",
       "F   210   210  210  210  210  210  210   210    210   210       210\n",
       "M    90    90   90   90   90   90   90    90     90    90        90"
      ]
     },
     "execution_count": 37,
     "metadata": {},
     "output_type": "execute_result"
    }
   ],
   "source": [
    "#성비 1:7\n",
    "train_data.groupby(\"성별\").count()"
   ]
  },
  {
   "cell_type": "code",
   "execution_count": 38,
   "metadata": {},
   "outputs": [
    {
     "data": {
      "text/html": [
       "<div>\n",
       "<style scoped>\n",
       "    .dataframe tbody tr th:only-of-type {\n",
       "        vertical-align: middle;\n",
       "    }\n",
       "\n",
       "    .dataframe tbody tr th {\n",
       "        vertical-align: top;\n",
       "    }\n",
       "\n",
       "    .dataframe thead th {\n",
       "        text-align: right;\n",
       "    }\n",
       "</style>\n",
       "<table border=\"1\" class=\"dataframe\">\n",
       "  <thead>\n",
       "    <tr style=\"text-align: right;\">\n",
       "      <th></th>\n",
       "      <th>질병 수</th>\n",
       "      <th>나이</th>\n",
       "      <th>팔로워</th>\n",
       "      <th>팔로잉</th>\n",
       "      <th>서포트</th>\n",
       "      <th>활동기간</th>\n",
       "      <th>활동주기(빈도)</th>\n",
       "    </tr>\n",
       "    <tr>\n",
       "      <th>성별</th>\n",
       "      <th></th>\n",
       "      <th></th>\n",
       "      <th></th>\n",
       "      <th></th>\n",
       "      <th></th>\n",
       "      <th></th>\n",
       "      <th></th>\n",
       "    </tr>\n",
       "  </thead>\n",
       "  <tbody>\n",
       "    <tr>\n",
       "      <th>F</th>\n",
       "      <td>5.923810</td>\n",
       "      <td>53.833333</td>\n",
       "      <td>10.466667</td>\n",
       "      <td>10.166667</td>\n",
       "      <td>2.809524</td>\n",
       "      <td>249.900000</td>\n",
       "      <td>20.428571</td>\n",
       "    </tr>\n",
       "    <tr>\n",
       "      <th>M</th>\n",
       "      <td>6.266667</td>\n",
       "      <td>55.344444</td>\n",
       "      <td>10.844444</td>\n",
       "      <td>7.933333</td>\n",
       "      <td>2.811111</td>\n",
       "      <td>337.944444</td>\n",
       "      <td>25.533333</td>\n",
       "    </tr>\n",
       "  </tbody>\n",
       "</table>\n",
       "</div>"
      ],
      "text/plain": [
       "        질병 수         나이        팔로워        팔로잉       서포트        활동기간   활동주기(빈도)\n",
       "성별                                                                            \n",
       "F   5.923810  53.833333  10.466667  10.166667  2.809524  249.900000  20.428571\n",
       "M   6.266667  55.344444  10.844444   7.933333  2.811111  337.944444  25.533333"
      ]
     },
     "execution_count": 38,
     "metadata": {},
     "output_type": "execute_result"
    }
   ],
   "source": [
    "train_data.groupby(\"성별\").mean()"
   ]
  },
  {
   "cell_type": "code",
   "execution_count": 21,
   "metadata": {},
   "outputs": [
    {
     "name": "stdout",
     "output_type": "stream",
     "text": [
      "0     56\n",
      "1     17\n",
      "2     18\n",
      "3      9\n",
      "4     19\n",
      "5      9\n",
      "6      9\n",
      "7     20\n",
      "8     17\n",
      "9     17\n",
      "10     6\n",
      "11     8\n",
      "12    13\n",
      "13     4\n",
      "14     8\n",
      "15     5\n",
      "16     3\n",
      "17     7\n",
      "18     3\n",
      "19     4\n",
      "20     6\n",
      "21     3\n",
      "22     3\n",
      "23     2\n",
      "24     2\n",
      "25     3\n",
      "27     3\n",
      "28     3\n",
      "29     1\n",
      "33     2\n",
      "34     2\n",
      "37     2\n",
      "38     1\n",
      "40     2\n",
      "43     2\n",
      "44     2\n",
      "45     1\n",
      "47     1\n",
      "50     1\n",
      "54     1\n",
      "55     1\n",
      "56     1\n",
      "68     1\n",
      "79     1\n",
      "84     1\n",
      "Name: 팔로워, dtype: int64\n"
     ]
    }
   ],
   "source": [
    "a=train_data['팔로워'].value_counts()\n",
    "b=sorted(a.index)\n",
    "a2=pd.Series(a,index=b)\n",
    "follow=a2.index\n",
    "num=a2.values\n",
    "print(a2)"
   ]
  },
  {
   "cell_type": "code",
   "execution_count": 22,
   "metadata": {},
   "outputs": [
    {
     "data": {
      "image/png": "[encoded data removed]",
      "text/plain": [
       "<Figure size 432x288 with 1 Axes>"
      ]
     },
     "metadata": {
      "needs_background": "light"
     },
     "output_type": "display_data"
    }
   ],
   "source": [
    "plt.plot(follow,num,color='green',marker='o',linestyle='solid')\n",
    "plt.title(\" 팔로워에 따른 고객\")\n",
    "plt.ylabel(\"고객 수\")\n",
    "plt.xlabel(\"팔로워 수\")\n",
    "plt.show()"
   ]
  },
  {
   "cell_type": "code",
   "execution_count": 23,
   "metadata": {},
   "outputs": [
    {
     "name": "stdout",
     "output_type": "stream",
     "text": [
      "0     33\n",
      "1     23\n",
      "2     33\n",
      "3     14\n",
      "4     27\n",
      "5     18\n",
      "6     19\n",
      "7     17\n",
      "8     14\n",
      "9      8\n",
      "10    12\n",
      "11    11\n",
      "12     9\n",
      "13     4\n",
      "14     6\n",
      "15     4\n",
      "16     2\n",
      "17     3\n",
      "18     1\n",
      "19     1\n",
      "20     4\n",
      "21     1\n",
      "22     2\n",
      "23     1\n",
      "24     3\n",
      "25     2\n",
      "26     1\n",
      "27     2\n",
      "28     1\n",
      "30     2\n",
      "31     1\n",
      "32     1\n",
      "33     3\n",
      "36     3\n",
      "38     1\n",
      "39     1\n",
      "42     4\n",
      "44     1\n",
      "48     1\n",
      "55     1\n",
      "56     1\n",
      "57     1\n",
      "67     1\n",
      "68     1\n",
      "70     1\n",
      "Name: 팔로잉, dtype: int64\n"
     ]
    }
   ],
   "source": [
    "a=train_data['팔로잉'].value_counts()\n",
    "b=sorted(a.index)\n",
    "a2=pd.Series(a,index=b)\n",
    "follow=a2.index\n",
    "num=a2.values\n",
    "print(a2)"
   ]
  },
  {
   "cell_type": "code",
   "execution_count": 24,
   "metadata": {},
   "outputs": [
    {
     "data": {
      "image/png": "[encoded data removed]",
      "text/plain": [
       "<Figure size 432x288 with 1 Axes>"
      ]
     },
     "metadata": {
      "needs_background": "light"
     },
     "output_type": "display_data"
    }
   ],
   "source": [
    "plt.plot(follow,num,color='green',marker='o',linestyle='solid')\n",
    "plt.title(\" 팔로잉에 따른 고객\")\n",
    "plt.ylabel(\"고객 수\")\n",
    "plt.xlabel(\"팔로잉 수\")\n",
    "plt.show()"
   ]
  },
  {
   "cell_type": "code",
   "execution_count": 25,
   "metadata": {},
   "outputs": [
    {
     "data": {
      "image/png": "[encoded data removed]",
      "text/plain": [
       "<Figure size 432x288 with 1 Axes>"
      ]
     },
     "metadata": {
      "needs_background": "light"
     },
     "output_type": "display_data"
    }
   ],
   "source": [
    "a=train_data['서포트'].value_counts()\n",
    "b=sorted(a.index)\n",
    "a2=pd.Series(a,index=b)\n",
    "follow=a2.index\n",
    "num=a2.values\n",
    "plt.plot(follow,num,color='green',marker='o',linestyle='solid')\n",
    "plt.title(\" 서포트에 따른 고객\")\n",
    "plt.ylabel(\"고객 수\")\n",
    "plt.xlabel(\"서포트\")\n",
    "plt.show()"
   ]
  },
  {
   "cell_type": "code",
   "execution_count": 33,
   "metadata": {},
   "outputs": [
    {
     "name": "stdout",
     "output_type": "stream",
     "text": [
      "0     165\n",
      "1      36\n",
      "2      21\n",
      "3      18\n",
      "4      13\n",
      "5       7\n",
      "6       6\n",
      "7       5\n",
      "8       6\n",
      "9       2\n",
      "10      2\n",
      "11      1\n",
      "12      1\n",
      "13      2\n",
      "14      1\n",
      "17      2\n",
      "18      1\n",
      "21      1\n",
      "22      2\n",
      "23      1\n",
      "25      1\n",
      "26      1\n",
      "32      2\n",
      "36      1\n",
      "49      1\n",
      "64      1\n",
      "Name: 서포트, dtype: int64\n"
     ]
    }
   ],
   "source": [
    "print(a2)"
   ]
  },
  {
   "cell_type": "code",
   "execution_count": 57,
   "metadata": {},
   "outputs": [],
   "source": [
    "train_ALS=train_data[0:59]"
   ]
  },
  {
   "cell_type": "code",
   "execution_count": 52,
   "metadata": {},
   "outputs": [
    {
     "data": {
      "text/html": [
       "<div>\n",
       "<style scoped>\n",
       "    .dataframe tbody tr th:only-of-type {\n",
       "        vertical-align: middle;\n",
       "    }\n",
       "\n",
       "    .dataframe tbody tr th {\n",
       "        vertical-align: top;\n",
       "    }\n",
       "\n",
       "    .dataframe thead th {\n",
       "        text-align: right;\n",
       "    }\n",
       "</style>\n",
       "<table border=\"1\" class=\"dataframe\">\n",
       "  <thead>\n",
       "    <tr style=\"text-align: right;\">\n",
       "      <th></th>\n",
       "      <th>질병 수</th>\n",
       "      <th>나이</th>\n",
       "      <th>팔로워</th>\n",
       "      <th>팔로잉</th>\n",
       "      <th>서포트</th>\n",
       "      <th>활동기간</th>\n",
       "      <th>활동주기(빈도)</th>\n",
       "    </tr>\n",
       "    <tr>\n",
       "      <th>질병</th>\n",
       "      <th></th>\n",
       "      <th></th>\n",
       "      <th></th>\n",
       "      <th></th>\n",
       "      <th></th>\n",
       "      <th></th>\n",
       "      <th></th>\n",
       "    </tr>\n",
       "  </thead>\n",
       "  <tbody>\n",
       "    <tr>\n",
       "      <th>ALS</th>\n",
       "      <td>5.866667</td>\n",
       "      <td>61.000000</td>\n",
       "      <td>7.800000</td>\n",
       "      <td>6.033333</td>\n",
       "      <td>2.883333</td>\n",
       "      <td>465.566667</td>\n",
       "      <td>19.750000</td>\n",
       "    </tr>\n",
       "    <tr>\n",
       "      <th>Fibromyalgia</th>\n",
       "      <td>6.101695</td>\n",
       "      <td>55.847458</td>\n",
       "      <td>11.677966</td>\n",
       "      <td>11.135593</td>\n",
       "      <td>5.474576</td>\n",
       "      <td>150.152542</td>\n",
       "      <td>25.542373</td>\n",
       "    </tr>\n",
       "    <tr>\n",
       "      <th>MS</th>\n",
       "      <td>6.833333</td>\n",
       "      <td>52.183333</td>\n",
       "      <td>11.100000</td>\n",
       "      <td>13.500000</td>\n",
       "      <td>0.700000</td>\n",
       "      <td>277.066667</td>\n",
       "      <td>11.650000</td>\n",
       "    </tr>\n",
       "    <tr>\n",
       "      <th>PD</th>\n",
       "      <td>6.100000</td>\n",
       "      <td>54.733333</td>\n",
       "      <td>11.600000</td>\n",
       "      <td>7.283333</td>\n",
       "      <td>1.583333</td>\n",
       "      <td>308.200000</td>\n",
       "      <td>40.466667</td>\n",
       "    </tr>\n",
       "    <tr>\n",
       "      <th>depressive disorder</th>\n",
       "      <td>5.245902</td>\n",
       "      <td>47.803279</td>\n",
       "      <td>10.737705</td>\n",
       "      <td>9.557377</td>\n",
       "      <td>3.442623</td>\n",
       "      <td>180.081967</td>\n",
       "      <td>12.606557</td>\n",
       "    </tr>\n",
       "  </tbody>\n",
       "</table>\n",
       "</div>"
      ],
      "text/plain": [
       "                         질병 수         나이        팔로워        팔로잉       서포트  \\\n",
       "질병                                                                         \n",
       "ALS                  5.866667  61.000000   7.800000   6.033333  2.883333   \n",
       "Fibromyalgia         6.101695  55.847458  11.677966  11.135593  5.474576   \n",
       "MS                   6.833333  52.183333  11.100000  13.500000  0.700000   \n",
       "PD                   6.100000  54.733333  11.600000   7.283333  1.583333   \n",
       "depressive disorder  5.245902  47.803279  10.737705   9.557377  3.442623   \n",
       "\n",
       "                           활동기간   활동주기(빈도)  \n",
       "질병                                          \n",
       "ALS                  465.566667  19.750000  \n",
       "Fibromyalgia         150.152542  25.542373  \n",
       "MS                   277.066667  11.650000  \n",
       "PD                   308.200000  40.466667  \n",
       "depressive disorder  180.081967  12.606557  "
      ]
     },
     "execution_count": 52,
     "metadata": {},
     "output_type": "execute_result"
    }
   ],
   "source": [
    "train_data.groupby(\"질병\").mean()"
   ]
  },
  {
   "cell_type": "code",
   "execution_count": 71,
   "metadata": {},
   "outputs": [
    {
     "data": {
      "image/png": "[encoded data removed]",
      "text/plain": [
       "<Figure size 432x288 with 1 Axes>"
      ]
     },
     "metadata": {
      "needs_background": "light"
     },
     "output_type": "display_data"
    }
   ],
   "source": [
    "train_ALS\n",
    "a=train_ALS['나이'].value_counts()\n",
    "b=sorted(a.index)\n",
    "a2=pd.Series(a,index=b)\n",
    "follow=a2.index\n",
    "num=a2.values\n",
    "plt.plot(follow,num,color='green',marker='o',linestyle='solid')\n",
    "plt.title(\"ALS 나이에 따른 고객\")\n",
    "plt.ylabel(\"고객 수\")\n",
    "plt.xlabel(\"나이\")\n",
    "plt.show()"
   ]
  },
  {
   "cell_type": "code",
   "execution_count": 73,
   "metadata": {},
   "outputs": [
    {
     "data": {
      "image/png": "[encoded data removed]",
      "text/plain": [
       "<Figure size 432x288 with 1 Axes>"
      ]
     },
     "metadata": {
      "needs_background": "light"
     },
     "output_type": "display_data"
    }
   ],
   "source": [
    "a=train_ALS['질병 수'].value_counts()\n",
    "b=sorted(a.index)\n",
    "a2=pd.Series(a,index=b)\n",
    "follow=a2.index\n",
    "num=a2.values\n",
    "plt.plot(follow,num,color='green',marker='o',linestyle='solid')\n",
    "plt.title(\"ALS 질병수에 따른 고객\")\n",
    "plt.ylabel(\"고객 수\")\n",
    "plt.xlabel(\"질병수\")\n",
    "plt.show()"
   ]
  },
  {
   "cell_type": "code",
   "execution_count": 75,
   "metadata": {},
   "outputs": [
    {
     "data": {
      "image/png": "[encoded data removed]",
      "text/plain": [
       "<Figure size 432x288 with 1 Axes>"
      ]
     },
     "metadata": {
      "needs_background": "light"
     },
     "output_type": "display_data"
    }
   ],
   "source": [
    "train_dis=train_data[60:120]\n",
    "a=train_dis['나이'].value_counts()\n",
    "b=sorted(a.index)\n",
    "a2=pd.Series(a,index=b)\n",
    "follow=a2.index\n",
    "num=a2.values\n",
    "plt.plot(follow,num,color='green',marker='o',linestyle='solid')\n",
    "plt.title(\"disorder 나이에 따른 고객\")\n",
    "plt.ylabel(\"고객 수\")\n",
    "plt.xlabel(\"나이\")\n",
    "plt.show()"
   ]
  },
  {
   "cell_type": "code",
   "execution_count": 77,
   "metadata": {},
   "outputs": [
    {
     "data": {
      "image/png": "[encoded data removed]",
      "text/plain": [
       "<Figure size 432x288 with 1 Axes>"
      ]
     },
     "metadata": {
      "needs_background": "light"
     },
     "output_type": "display_data"
    }
   ],
   "source": [
    "a=train_dis['질병 수'].value_counts()\n",
    "b=sorted(a.index)\n",
    "a2=pd.Series(a,index=b)\n",
    "follow=a2.index\n",
    "num=a2.values\n",
    "plt.plot(follow,num,color='green',marker='o',linestyle='solid')\n",
    "plt.title(\"disorder 질병수에 따른 고객\")\n",
    "plt.ylabel(\"고객 수\")\n",
    "plt.xlabel(\"질병수\")\n",
    "plt.show()"
   ]
  },
  {
   "cell_type": "code",
   "execution_count": 78,
   "metadata": {},
   "outputs": [
    {
     "data": {
      "image/png": "[encoded data removed]",
      "text/plain": [
       "<Figure size 432x288 with 1 Axes>"
      ]
     },
     "metadata": {
      "needs_background": "light"
     },
     "output_type": "display_data"
    }
   ],
   "source": [
    "train_Fibor=train_data[120:180]\n",
    "a=train_Fibor['나이'].value_counts()\n",
    "b=sorted(a.index)\n",
    "a2=pd.Series(a,index=b)\n",
    "follow=a2.index\n",
    "num=a2.values\n",
    "plt.plot(follow,num,color='green',marker='o',linestyle='solid')\n",
    "plt.title(\"Fibor 나이에 따른 고객\")\n",
    "plt.ylabel(\"고객 수\")\n",
    "plt.xlabel(\"나이\")\n",
    "plt.show()"
   ]
  },
  {
   "cell_type": "code",
   "execution_count": 79,
   "metadata": {},
   "outputs": [
    {
     "data": {
      "image/png": "[encoded data removed]",
      "text/plain": [
       "<Figure size 432x288 with 1 Axes>"
      ]
     },
     "metadata": {
      "needs_background": "light"
     },
     "output_type": "display_data"
    }
   ],
   "source": [
    "a=train_Fibor['질병 수'].value_counts()\n",
    "b=sorted(a.index)\n",
    "a2=pd.Series(a,index=b)\n",
    "follow=a2.index\n",
    "num=a2.values\n",
    "plt.plot(follow,num,color='green',marker='o',linestyle='solid')\n",
    "plt.title(\"Fibor 질병수에 따른 고객\")\n",
    "plt.ylabel(\"고객 수\")\n",
    "plt.xlabel(\"질병수\")\n",
    "plt.show()"
   ]
  },
  {
   "cell_type": "code",
   "execution_count": 83,
   "metadata": {},
   "outputs": [
    {
     "data": {
      "image/png": "[encoded data removed]",
      "text/plain": [
       "<Figure size 432x288 with 1 Axes>"
      ]
     },
     "metadata": {
      "needs_background": "light"
     },
     "output_type": "display_data"
    }
   ],
   "source": [
    "train_MS=train_data[181:240]\n",
    "a=train_Fibor['나이'].value_counts()\n",
    "b=sorted(a.index)\n",
    "a2=pd.Series(a,index=b)\n",
    "follow=a2.index\n",
    "num=a2.values\n",
    "plt.plot(follow,num,color='green',marker='o',linestyle='solid')\n",
    "plt.title(\"MS 나이에 따른 고객\")\n",
    "plt.ylabel(\"고객 수\")\n",
    "plt.xlabel(\"나이\")\n",
    "plt.show()"
   ]
  },
  {
   "cell_type": "code",
   "execution_count": 84,
   "metadata": {},
   "outputs": [
    {
     "data": {
      "image/png": "[encoded data removed]",
      "text/plain": [
       "<Figure size 432x288 with 1 Axes>"
      ]
     },
     "metadata": {
      "needs_background": "light"
     },
     "output_type": "display_data"
    }
   ],
   "source": [
    "a=train_MS['질병 수'].value_counts()\n",
    "b=sorted(a.index)\n",
    "a2=pd.Series(a,index=b)\n",
    "follow=a2.index\n",
    "num=a2.values\n",
    "plt.plot(follow,num,color='green',marker='o',linestyle='solid')\n",
    "plt.title(\"MS 질병수에 따른 고객\")\n",
    "plt.ylabel(\"고객 수\")\n",
    "plt.xlabel(\"질병수\")\n",
    "plt.show()"
   ]
  },
  {
   "cell_type": "code",
   "execution_count": 86,
   "metadata": {},
   "outputs": [
    {
     "data": {
      "image/png": "[encoded data removed]",
      "text/plain": [
       "<Figure size 432x288 with 1 Axes>"
      ]
     },
     "metadata": {
      "needs_background": "light"
     },
     "output_type": "display_data"
    }
   ],
   "source": [
    "train_pd=train_data[240:]\n",
    "a=train_Fibor['나이'].value_counts()\n",
    "b=sorted(a.index)\n",
    "a2=pd.Series(a,index=b)\n",
    "follow=a2.index\n",
    "num=a2.values\n",
    "plt.plot(follow,num,color='green',marker='o',linestyle='solid')\n",
    "plt.title(\"pd 나이에 따른 고객\")\n",
    "plt.ylabel(\"고객 수\")\n",
    "plt.xlabel(\"나이\")\n",
    "plt.show()"
   ]
  },
  {
   "cell_type": "code",
   "execution_count": 87,
   "metadata": {},
   "outputs": [
    {
     "data": {
      "image/png": "[encoded data removed]",
      "text/plain": [
       "<Figure size 432x288 with 1 Axes>"
      ]
     },
     "metadata": {
      "needs_background": "light"
     },
     "output_type": "display_data"
    }
   ],
   "source": [
    "a=train_pd['질병 수'].value_counts()\n",
    "b=sorted(a.index)\n",
    "a2=pd.Series(a,index=b)\n",
    "follow=a2.index\n",
    "num=a2.values\n",
    "plt.plot(follow,num,color='green',marker='o',linestyle='solid')\n",
    "plt.title(\"PD 질병수에 따른 고객\")\n",
    "plt.ylabel(\"고객 수\")\n",
    "plt.xlabel(\"질병수\")\n",
    "plt.show()"
   ]
  }
 ],
 "metadata": {
  "kernelspec": {
   "display_name": "Python 3",
   "language": "python",
   "name": "python3"
  },
  "language_info": {
   "codemirror_mode": {
    "name": "ipython",
    "version": 3
   },
   "file_extension": ".py",
   "mimetype": "text/x-python",
   "name": "python",
   "nbconvert_exporter": "python",
   "pygments_lexer": "ipython3",
   "version": "3.6.3"
  }
 },
 "nbformat": 4,
 "nbformat_minor": 2
}
